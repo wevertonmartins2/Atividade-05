{
 "cells": [
  {
   "cell_type": "code",
   "execution_count": 1,
   "metadata": {},
   "outputs": [],
   "source": [
    "import numpy as np\n",
    "from PIL import Image, ImageDraw, ImageFont\n",
    "from queue import Queue\n",
    "import random\n",
    "from IPython.display import display\n",
    "import matplotlib.pyplot as plt\n",
    "import streamlit as st\n"
   ]
  },
  {
   "cell_type": "code",
   "execution_count": 2,
   "metadata": {},
   "outputs": [],
   "source": [
    "# Função para criar um labirinto 7x7 com caminho aleatório\n",
    "def labirinto_7x7():\n",
    "    lab = np.zeros((7, 7), dtype=int)\n",
    "    caminho = [(1, i) for i in range(1, 6)] + [(i, 5) for i in range(2, 5)] + [(4, i) for i in range(1, 6)]\n",
    "    for x, y in caminho:\n",
    "        lab[x, y] = 0\n",
    "    for _ in range(8):\n",
    "        x, y = random.randint(0, 6), random.randint(0, 6)\n",
    "        if (x, y) not in caminho:\n",
    "            lab[x, y] = 1\n",
    "    return lab"
   ]
  },
  {
   "cell_type": "code",
   "execution_count": 3,
   "metadata": {},
   "outputs": [],
   "source": [
    "# Função para criar um labirinto 9x11 com caminho aleatório\n",
    "def labirinto_9x11():\n",
    "    lab = np.zeros((9, 11), dtype=int)\n",
    "    caminho = [(1, i) for i in range(1, 10)] + [(i, 9) for i in range(2, 8)] + [(7, i) for i in range(1, 10)]\n",
    "    for x, y in caminho:\n",
    "        lab[x, y] = 0\n",
    "    for _ in range(15):\n",
    "        x, y = random.randint(0, 8), random.randint(0, 10)\n",
    "        if (x, y) not in caminho:\n",
    "            lab[x, y] = 1\n",
    "    return lab"
   ]
  },
  {
   "cell_type": "code",
   "execution_count": 4,
   "metadata": {},
   "outputs": [],
   "source": [
    "# Função para criar um labirinto 7x15 com caminho aleatório\n",
    "def labirinto_7x15():\n",
    "    lab = np.zeros((7, 15), dtype=int)\n",
    "    caminho = [(1, i) for i in range(1, 14)] + [(i, 13) for i in range(2, 5)] + [(4, i) for i in range(1, 14)]\n",
    "    for x, y in caminho:\n",
    "        lab[x, y] = 0\n",
    "    for _ in range(10):\n",
    "        x, y = random.randint(0, 6), random.randint(0, 14)\n",
    "        if (x, y) not in caminho:\n",
    "            lab[x, y] = 1\n",
    "    return lab"
   ]
  },
  {
   "cell_type": "code",
   "execution_count": 5,
   "metadata": {},
   "outputs": [],
   "source": [
    "# Função para buscar o caminho no labirinto usando busca em largura\n",
    "def busca_em_largura(labirinto, inicio, fim):\n",
    "    fila = Queue()\n",
    "    fila.put(inicio)\n",
    "    caminhos = {inicio: []}\n",
    "\n",
    "    while not fila.empty():\n",
    "        ponto = fila.get()\n",
    "        if ponto == fim:\n",
    "            return caminhos[ponto] + [fim]\n",
    "        for vizinho in [(0,1), (1,0), (0,-1), (-1,0)]:\n",
    "            x, y = ponto[0] + vizinho[0], ponto[1] + vizinho[1]\n",
    "            if 0 <= x < len(labirinto) and 0 <= y < len(labirinto[0]) and labirinto[x][y] == 0 and (x, y) not in caminhos:\n",
    "                fila.put((x, y))\n",
    "                caminhos[(x, y)] = caminhos[ponto] + [ponto]\n",
    "\n",
    "    return None"
   ]
  },
  {
   "cell_type": "code",
   "execution_count": 6,
   "metadata": {},
   "outputs": [],
   "source": [
    "# Função para imprimir o labirinto com o caminho encontrado\n",
    "def imprimir_labirinto(labirinto, caminho):\n",
    "    cor_labirinto = (255, 255, 255)  # branco\n",
    "    cor_caminho = (0, 200, 0)  # verde\n",
    "    cor_obstaculo = (0, 0, 0)  # preto\n",
    "    cor_texto = (255, 255, 255)  # branco\n",
    "\n",
    "    tamanho_imagem = (labirinto.shape[1] * 30, labirinto.shape[0] * 30)\n",
    "    img = Image.new(\"RGB\", tamanho_imagem, color=cor_labirinto)\n",
    "    draw = ImageDraw.Draw(img)\n",
    "\n",
    "    for i in range(labirinto.shape[0]):\n",
    "        for j in range(labirinto.shape[1]):\n",
    "            x1, y1 = j * 30, i * 30\n",
    "            x2, y2 = x1 + 30, y1 + 30\n",
    "            if labirinto[i][j] == 1:\n",
    "                draw.rectangle([x1, y1, x2, y2], fill=cor_obstaculo)\n",
    "            elif (i, j) in caminho:\n",
    "                draw.rectangle([x1, y1, x2, y2], fill=cor_caminho)\n",
    "                try:\n",
    "                    font = ImageFont.truetype(\"arial.ttf\", 12)\n",
    "                except IOError:\n",
    "                    font = ImageFont.load_default()\n",
    "                draw.text((x1 + 5, y1 + 5), str(caminho.index((i, j)) + 1), fill=cor_texto, font=font)\n",
    "\n",
    "    display(img)"
   ]
  },
  {
   "cell_type": "code",
   "execution_count": 7,
   "metadata": {},
   "outputs": [
    {
     "name": "stdout",
     "output_type": "stream",
     "text": [
      "Busca em Largura em Labirintos\n"
     ]
    }
   ],
   "source": [
    "# Interface no Jupyter Notebook\n",
    "def main():\n",
    "    print(\"Busca em Largura em Labirintos\")\n",
    "    labirintos = {\"7x7\": labirinto_7x7, \"9x11\": labirinto_9x11, \"7x15\": labirinto_7x15}\n",
    "    \n",
    "    # Selecionando labirinto\n",
    "    labirinto_selecionado = input(\"Selecione um labirinto (7x7, 9x11, 7x15): \")\n",
    "    if labirinto_selecionado not in labirintos:\n",
    "        print(\"Seleção inválida. Usando 7x7 por padrão.\")\n",
    "        labirinto_selecionado = \"7x7\"\n",
    "    \n",
    "    seed = input(\"Insira uma semente para gerar o labirinto (opcional): \")\n",
    "    if seed.isdigit():\n",
    "        random.seed(int(seed))\n",
    "\n",
    "    labirinto = labirintos[labirinto_selecionado]()\n",
    "\n",
    "    inicio = (0, 0)  # ponto de início\n",
    "    fim = (labirinto.shape[0] - 1, labirinto.shape[1] - 1)  # ponto de fim\n",
    "\n",
    "    # Mostra o labirinto original\n",
    "    print(\"Labirinto Original:\")\n",
    "    imprimir_labirinto(labirinto, [])\n",
    "\n",
    "    # Executando a busca em largura\n",
    "    caminho = busca_em_largura(labirinto, inicio, fim)\n",
    "\n",
    "    if caminho is None:\n",
    "        print(\"Não há caminho para o fim!\")\n",
    "    else:\n",
    "        print(\"Caminho encontrado!\")\n",
    "        imprimir_labirinto(labirinto, caminho)\n",
    "\n",
    "    while True:\n",
    "        gerar = input(\"Deseja gerar um novo caminho? (s/n): \")\n",
    "        if gerar.lower() == \"n\":\n",
    "            break\n",
    "        caminho = busca_em_largura(labirinto, inicio, fim)\n",
    "        if caminho is None:\n",
    "            print(\"Não há caminho para o fim!\")\n",
    "        else:\n",
    "            print(\"Novo caminho gerado!\")\n",
    "            imprimir_labirinto(labirinto, caminho)\n",
    "\n",
    "if __name__ == \"__main__\":\n",
    "    main()"
   ]
  }
 ],
 "metadata": {
  "kernelspec": {
   "display_name": "Python 3 (ipykernel)",
   "language": "python",
   "name": "python3"
  },
  "language_info": {
   "codemirror_mode": {
    "name": "ipython",
    "version": 3
   },
   "file_extension": ".py",
   "mimetype": "text/x-python",
   "name": "python",
   "nbconvert_exporter": "python",
   "pygments_lexer": "ipython3",
   "version": "3.12.3"
  }
 },
 "nbformat": 4,
 "nbformat_minor": 4
}
